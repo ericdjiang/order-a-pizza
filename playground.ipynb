{
 "cells": [
  {
   "cell_type": "markdown",
   "metadata": {},
   "source": [
    "# Build an autonomous agent that can browse the web (from scratch)!\n",
    "\n",
    "**This demo is powered by Solar LLM https://www.upstage.ai/**\n",
    "\n",
    "To get started, make sure you've followed the steps in the README."
   ]
  },
  {
   "cell_type": "code",
   "execution_count": 1,
   "metadata": {},
   "outputs": [
    {
     "name": "stderr",
     "output_type": "stream",
     "text": [
      "/Users/eric/dev/order-a-pizza/.venv/lib/python3.10/site-packages/tqdm/auto.py:21: TqdmWarning: IProgress not found. Please update jupyter and ipywidgets. See https://ipywidgets.readthedocs.io/en/stable/user_install.html\n",
      "  from .autonotebook import tqdm as notebook_tqdm\n"
     ]
    },
    {
     "name": "stdout",
     "output_type": "stream",
     "text": [
      "Hello! How can I assist you today?\n"
     ]
    }
   ],
   "source": [
    "from llm import call_solar\n",
    "from termcolor import cprint\n",
    "\n",
    "\n",
    "def llm(prompt):\n",
    "    cprint(prompt, \"black\")\n",
    "    cprint(call_solar(prompt), \"green\")\n",
    "\n",
    "print(call_solar(\"Hello world!\"))"
   ]
  },
  {
   "cell_type": "markdown",
   "metadata": {},
   "source": [
    "# Our Goal: Build an autonomous agent that can browse the web\n",
    "\n",
    "The agent should be able to do general things like:\n",
    "- \"Generate a list of leads and contact info for my startup\"\n",
    "- \"Wish my friend Onome a happy birthday on Instagram\"\n",
    "- \"Generate a competitive analysis market landscape report about AI\"\n",
    "\n",
    "### Task: \"Order a large pepperoni pizza from Domino's for me\"\n"
   ]
  },
  {
   "cell_type": "code",
   "execution_count": 2,
   "metadata": {},
   "outputs": [
    {
     "name": "stdout",
     "output_type": "stream",
     "text": [
      "\u001b[30mYou are a helpful assistant who can interact with a browser on behalf of the user. Your purpose is to help a user complete the following task:\n",
      "Order me a large pepperoni pizza from Domino's for delivery to 275 Brannan St, San Francisco, CA 94107\n",
      "\n",
      "The website https://www.dominos.com/ is open.\n",
      "\n",
      "What is the most logical next action to take?\n",
      "\u001b[0m\n",
      "\u001b[32mThe most logical next action to take would be to navigate to the \"Order\" or \"Online Ordering\" section of the Domino's website. You can do this by clicking on the \"Order\" button in the top right corner of the page, or by clicking on the \"Order Online\" link in the main navigation bar. Once you are in the ordering section, you can select the size and type of pizza you want, choose the \"275 Brannan St, San Francisco, CA 94107\" as the delivery address, and complete the order by providing your payment information.\u001b[0m\n"
     ]
    }
   ],
   "source": [
    "task = \"Order me a large pepperoni pizza from Domino's for delivery to 275 Brannan St, San Francisco, CA 94107\"\n",
    "\n",
    "currently_open_url = \"https://www.dominos.com/\"\n",
    "\n",
    "prompt = f\"\"\"\\\n",
    "You are a helpful assistant who can interact with a browser on behalf of the user. Your purpose is to help a user complete the following task:\n",
    "{task}\n",
    "\n",
    "The website {currently_open_url} is open.\n",
    "\n",
    "What is the most logical next action to take?\n",
    "\"\"\"\n",
    "\n",
    "llm(prompt)"
   ]
  },
  {
   "cell_type": "markdown",
   "metadata": {},
   "source": [
    "# Step 1: Give the agent eyes!\n",
    "To order a pizza, the agent needs to know what the webpage looks like. So let's pass the HTML to the LLM so it can \"see\" the webpage.\n",
    "\n",
    "- This is RAG (retrieval augmented generation)!\n",
    "- Alternatively we could pass an image, but that's expensive and comes with a whole other set of challenges (and doesn't work on non-multimodal LLMs)"
   ]
  },
  {
   "cell_type": "code",
   "execution_count": 3,
   "metadata": {},
   "outputs": [
    {
     "name": "stdout",
     "output_type": "stream",
     "text": [
      "\u001b[30mYou are a helpful assistant who can interact with a browser on behalf of the user. Your purpose is to help a user complete the following task:\n",
      "Order me a large pepperoni pizza from Domino's for delivery to 275 Brannan St, San Francisco, CA 94107\n",
      "\n",
      "You must carefully read over the current webpage's HTML, and based on the current state of the webpage, decide what is the most logical next action to take.\n",
      "\n",
      "The webpage https://www.dominos.com/ is open. Carefully analyze the HTML, and based on the HTML contents, determine the next action to take to help the user get closer to achieving their task. The HTML of the current webpage is:\n",
      "\n",
      "<html>\n",
      "    <body>\n",
      "        <header>\n",
      "            <h1>Welcome to Domino's Pizza</h1>\n",
      "            <p>Order online for delivery or pickup</p>\n",
      "            <a href=\"#\" id=\"order-button\">Order Now</a>\n",
      "        </header>\n",
      "\n",
      "        <main>\n",
      "            <h2>Our Specialties</h2>\n",
      "            <p>Discover our delicious range of pizzas, sides, and desserts.</p>\n",
      "        </main>\n",
      "    </body>\n",
      "</html>\n",
      "\u001b[0m\n",
      "\u001b[32mBased on the HTML contents, the most logical next action to take is to click on the \"Order Now\" button, which has the ID \"order-button\". This will likely take the user to the ordering page where they can select their pizza and enter their delivery address.\u001b[0m\n"
     ]
    }
   ],
   "source": [
    "fake_dominos_html = \"\"\"<html>\n",
    "    <body>\n",
    "        <header>\n",
    "            <h1>Welcome to Domino's Pizza</h1>\n",
    "            <p>Order online for delivery or pickup</p>\n",
    "            <a href=\"#\" id=\"order-button\">Order Now</a>\n",
    "        </header>\n",
    "\n",
    "        <main>\n",
    "            <h2>Our Specialties</h2>\n",
    "            <p>Discover our delicious range of pizzas, sides, and desserts.</p>\n",
    "        </main>\n",
    "    </body>\n",
    "</html>\"\"\"\n",
    "\n",
    "prompt = f\"\"\"\\\n",
    "You are a helpful assistant who can interact with a browser on behalf of the user. Your purpose is to help a user complete the following task:\n",
    "{task}\n",
    "\n",
    "You must carefully read over the current webpage's HTML, and based on the current state of the webpage, decide what is the most logical next action to take.\n",
    "\n",
    "The webpage {currently_open_url} is open. Carefully analyze the HTML, and based on the HTML contents, determine the next action to take to help the user get closer to achieving their task. The HTML of the current webpage is:\n",
    "\n",
    "{fake_dominos_html}\n",
    "\"\"\"\n",
    "\n",
    "llm(prompt)"
   ]
  },
  {
   "cell_type": "markdown",
   "metadata": {},
   "source": [
    "# Step 2: Tell the agent what actions it can perform\n",
    "The agent should be able to click on buttons, go to a url, and fill out form fields\n",
    "\n",
    "- Basically, we're giving the llm a mouse and a keyboard\n",
    "- This is the equivalent of LangChain tools!"
   ]
  },
  {
   "cell_type": "code",
   "execution_count": 4,
   "metadata": {},
   "outputs": [],
   "source": [
    "actions_agent_can_perform = \"\"\"\\\n",
    "click_html_element(id: 'str'): Click an HTML <a> tag or <button> identified by its ID\n",
    "\n",
    "fill_text_in_input(id: 'str', text: 'str'): Type text into an input or textarea identified by its ID. Important: This function can ONLY be called with an ID that belongs directly to an <input> or <textarea> tag.\n",
    "\n",
    "choose_dropdown_values(id: 'str', values: 'List[str]'): Select value(s) for a <select> tag identified by its ID. The `values` list must contain at least one string option to select. Important: This function can ONLY be called with an ID that belongs directly to a <select> tag.\n",
    "\n",
    "go_to_url(url: 'str'): Open a webpage by URL\"\"\""
   ]
  },
  {
   "cell_type": "code",
   "execution_count": 5,
   "metadata": {},
   "outputs": [
    {
     "name": "stdout",
     "output_type": "stream",
     "text": [
      "\u001b[30mYou are a helpful assistant who can interact with a browser on behalf of the user. Your purpose is to help a user complete the following task:\n",
      "Order me a large pepperoni pizza from Domino's for delivery to 275 Brannan St, San Francisco, CA 94107\n",
      "\n",
      "You can perform the following actions to interact with the browser:\n",
      "click_html_element(id: 'str'): Click an HTML <a> tag or <button> identified by its ID\n",
      "\n",
      "fill_text_in_input(id: 'str', text: 'str'): Type text into an input or textarea identified by its ID. Important: This function can ONLY be called with an ID that belongs directly to an <input> or <textarea> tag.\n",
      "\n",
      "choose_dropdown_values(id: 'str', values: 'List[str]'): Select value(s) for a <select> tag identified by its ID. The `values` list must contain at least one string option to select. Important: This function can ONLY be called with an ID that belongs directly to a <select> tag.\n",
      "\n",
      "go_to_url(url: 'str'): Open a webpage by URL\n",
      "\n",
      "You must carefully read over the current webpage's HTML, and based on the current state of the webpage, decide the single most logical next action to take to help advance in achieving the task.\n",
      "\n",
      "The webpage https://www.dominos.com/ is open. Carefully analyze the HTML, and based on the HTML contents, determine the next action to take to help the user get closer to achieving their task. The HTML of the current webpage is:\n",
      "\n",
      "<html>\n",
      "    <body>\n",
      "        <header>\n",
      "            <h1>Welcome to Domino's Pizza</h1>\n",
      "            <p>Order online for delivery or pickup</p>\n",
      "            <a href=\"#\" id=\"order-button\">Order Now</a>\n",
      "        </header>\n",
      "\n",
      "        <main>\n",
      "            <h2>Our Specialties</h2>\n",
      "            <p>Discover our delicious range of pizzas, sides, and desserts.</p>\n",
      "        </main>\n",
      "    </body>\n",
      "</html>\n",
      "\u001b[0m\n",
      "\u001b[32mThe next action to take is to click the \"Order Now\" button by calling the `click_html_element` function with the ID \"order-button\". This will likely take the user to the ordering page where they can specify their order details.\u001b[0m\n"
     ]
    }
   ],
   "source": [
    "\n",
    "prompt = f\"\"\"\\\n",
    "You are a helpful assistant who can interact with a browser on behalf of the user. Your purpose is to help a user complete the following task:\n",
    "{task}\n",
    "\n",
    "You can perform the following actions to interact with the browser:\n",
    "{actions_agent_can_perform}\n",
    "\n",
    "You must carefully read over the current webpage's HTML, and based on the current state of the webpage, decide the single most logical next action to take to help advance in achieving the task.\n",
    "\n",
    "The webpage {currently_open_url} is open. Carefully analyze the HTML, and based on the HTML contents, determine the next action to take to help the user get closer to achieving their task. The HTML of the current webpage is:\n",
    "\n",
    "{fake_dominos_html}\n",
    "\"\"\"\n",
    "\n",
    "llm(prompt)"
   ]
  },
  {
   "cell_type": "markdown",
   "metadata": {},
   "source": [
    "# Step 3: Tell the agent to return a JSON\n",
    "We want the agent to output the response in a structured format so we can parse the action and execute it outside of the LLM!\n",
    "\n",
    "- Alternatively you can use the ChatGPT function calling API / structured output API"
   ]
  },
  {
   "cell_type": "code",
   "execution_count": 6,
   "metadata": {},
   "outputs": [],
   "source": [
    "json_structure = \"\"\"\\\n",
    "{\n",
    "    \"action\": \"Call the action in the following format: action_name(param_name='argument')\"\n",
    "}\n",
    "\"\"\""
   ]
  },
  {
   "cell_type": "code",
   "execution_count": 7,
   "metadata": {},
   "outputs": [
    {
     "name": "stdout",
     "output_type": "stream",
     "text": [
      "\u001b[30mYou are a helpful assistant who can interact with a browser on behalf of the user. Your purpose is to help a user complete the following task:\n",
      "Order me a large pepperoni pizza from Domino's for delivery to 275 Brannan St, San Francisco, CA 94107\n",
      "\n",
      "You can perform the following actions to interact with the browser:\n",
      "click_html_element(id: 'str'): Click an HTML <a> tag or <button> identified by its ID\n",
      "\n",
      "fill_text_in_input(id: 'str', text: 'str'): Type text into an input or textarea identified by its ID. Important: This function can ONLY be called with an ID that belongs directly to an <input> or <textarea> tag.\n",
      "\n",
      "choose_dropdown_values(id: 'str', values: 'List[str]'): Select value(s) for a <select> tag identified by its ID. The `values` list must contain at least one string option to select. Important: This function can ONLY be called with an ID that belongs directly to a <select> tag.\n",
      "\n",
      "go_to_url(url: 'str'): Open a webpage by URL\n",
      "\n",
      "Your response must be in JSON format with a field named \"action\":\n",
      "{\n",
      "    \"action\": \"Call the action in the following format: action_name(param_name='argument')\"\n",
      "}\n",
      "\n",
      "\n",
      "You must carefully read over the current webpage's HTML, and based on the current state of the webpage, decide the single most logical next action to take to help advance in achieving the task.\n",
      "\n",
      "The webpage https://www.dominos.com/ is open. Carefully analyze the HTML, and based on the HTML contents, determine the next action to take to help the user get closer to achieving their task. The HTML of the current webpage is:\n",
      "\n",
      "<html>\n",
      "    <body>\n",
      "        <header>\n",
      "            <h1>Welcome to Domino's Pizza</h1>\n",
      "            <p>Order online for delivery or pickup</p>\n",
      "            <a href=\"#\" id=\"order-button\">Order Now</a>\n",
      "        </header>\n",
      "\n",
      "        <main>\n",
      "            <h2>Our Specialties</h2>\n",
      "            <p>Discover our delicious range of pizzas, sides, and desserts.</p>\n",
      "        </main>\n",
      "    </body>\n",
      "</html>\n",
      "\u001b[0m\n",
      "\u001b[32m{\n",
      "    \"action\": \"click_html_element(id='order-button')\"\n",
      "}\u001b[0m\n"
     ]
    }
   ],
   "source": [
    "\n",
    "prompt = f\"\"\"\\\n",
    "You are a helpful assistant who can interact with a browser on behalf of the user. Your purpose is to help a user complete the following task:\n",
    "{task}\n",
    "\n",
    "You can perform the following actions to interact with the browser:\n",
    "{actions_agent_can_perform}\n",
    "\n",
    "Your response must be in JSON format with a field named \"action\":\n",
    "{json_structure}\n",
    "\n",
    "You must carefully read over the current webpage's HTML, and based on the current state of the webpage, decide the single most logical next action to take to help advance in achieving the task.\n",
    "\n",
    "The webpage {currently_open_url} is open. Carefully analyze the HTML, and based on the HTML contents, determine the next action to take to help the user get closer to achieving their task. The HTML of the current webpage is:\n",
    "\n",
    "{fake_dominos_html}\n",
    "\"\"\"\n",
    "\n",
    "llm(prompt)"
   ]
  },
  {
   "cell_type": "markdown",
   "metadata": {},
   "source": [
    "# Step 4: Make the agent think before taking an action\n",
    "\n",
    "LLMs are prone to hallucination. If you ask the agent to explicitly describe what it observes in the HTML and to **reason** out loud, it is much more likely to arrive at a logical decision. Without this observation/reasoning step, the agent might hallucinate and:\n",
    "\n",
    "- Make up HTML IDs that don't exist\n",
    "- Choose an incorrect action that doesn't advance the task"
   ]
  },
  {
   "cell_type": "code",
   "execution_count": 8,
   "metadata": {},
   "outputs": [],
   "source": [
    "better_json_structure = \"\"\"\\\n",
    "{\n",
    "    \"observations\": \"Carefully read the HTML of the current webpage. Based on the HTML, explain the purpose of the webpage and identify the important HTML elements. Pay close attention to the state of informational elements such as the cart, input validation errors, sign in status, etc.\",\n",
    "    \"reasoning\": \"Think critically about what action you can perform on the HTML to help advance in the user task. Describe why you think this is the best action to perform given the contents of the current page.\",\n",
    "    \"action\": \"Call the action in the following format: action_name(param_name='argument')\"\n",
    "}\"\"\""
   ]
  },
  {
   "cell_type": "code",
   "execution_count": 9,
   "metadata": {},
   "outputs": [
    {
     "name": "stdout",
     "output_type": "stream",
     "text": [
      "\u001b[30mYou are a helpful assistant who can interact with a browser on behalf of the user. Your purpose is to help a user complete the following task:\n",
      "Order me a large pepperoni pizza from Domino's for delivery to 275 Brannan St, San Francisco, CA 94107\n",
      "\n",
      "You can perform the following actions to interact with the browser:\n",
      "click_html_element(id: 'str'): Click an HTML <a> tag or <button> identified by its ID\n",
      "\n",
      "fill_text_in_input(id: 'str', text: 'str'): Type text into an input or textarea identified by its ID. Important: This function can ONLY be called with an ID that belongs directly to an <input> or <textarea> tag.\n",
      "\n",
      "choose_dropdown_values(id: 'str', values: 'List[str]'): Select value(s) for a <select> tag identified by its ID. The `values` list must contain at least one string option to select. Important: This function can ONLY be called with an ID that belongs directly to a <select> tag.\n",
      "\n",
      "go_to_url(url: 'str'): Open a webpage by URL\n",
      "\n",
      "Your response must be in JSON format with fields named \"observations\", \"reasoning\", and \"action\":\n",
      "{\n",
      "    \"observations\": \"Carefully read the HTML of the current webpage. Based on the HTML, explain the purpose of the webpage and identify the important HTML elements. Pay close attention to the state of informational elements such as the cart, input validation errors, sign in status, etc.\",\n",
      "    \"reasoning\": \"Think critically about what action you can perform on the HTML to help advance in the user task. Describe why you think this is the best action to perform given the contents of the current page.\",\n",
      "    \"action\": \"Call the action in the following format: action_name(param_name='argument')\"\n",
      "}\n",
      "\n",
      "You must carefully read over the current webpage's HTML, and based on the current state of the webpage, decide the single most logical next action to take to help advance in achieving the task.\n",
      "\n",
      "The webpage https://www.dominos.com/ is open. Carefully analyze the HTML, and based on the HTML contents, determine the next action to take to help the user get closer to achieving their task. The HTML of the current webpage is:\n",
      "\n",
      "<html>\n",
      "    <body>\n",
      "        <header>\n",
      "            <h1>Welcome to Domino's Pizza</h1>\n",
      "            <p>Order online for delivery or pickup</p>\n",
      "            <a href=\"#\" id=\"order-button\">Order Now</a>\n",
      "        </header>\n",
      "\n",
      "        <main>\n",
      "            <h2>Our Specialties</h2>\n",
      "            <p>Discover our delicious range of pizzas, sides, and desserts.</p>\n",
      "        </main>\n",
      "    </body>\n",
      "</html>\n",
      "\u001b[0m\n",
      "\u001b[32m{\n",
      "    \"observations\": \"The current webpage is the homepage of Domino's Pizza. It has a header with a heading and a paragraph welcoming the user to the website and encouraging them to order online. There is also a button with the ID 'order-button' that the user can click to start the ordering process. The main section of the page has a heading and a paragraph describing the specialties of the restaurant, but there is no information about specific menu items or prices. There are no other interactive elements on the page.\",\n",
      "    \"reasoning\": \"To help the user complete their task of ordering a large pepperoni pizza for delivery, the next logical step is to click the 'Order Now' button to start the ordering process. This button is the only interactive element on the page that seems relevant to the user's task, and it is likely to take the user to a page where they can select their pizza and enter their delivery address.\",\n",
      "    \"action\": \"click_html_element(id='order-button')\"\n",
      "}\u001b[0m\n"
     ]
    }
   ],
   "source": [
    "\n",
    "prompt = f\"\"\"\\\n",
    "You are a helpful assistant who can interact with a browser on behalf of the user. Your purpose is to help a user complete the following task:\n",
    "{task}\n",
    "\n",
    "You can perform the following actions to interact with the browser:\n",
    "{actions_agent_can_perform}\n",
    "\n",
    "Your response must be in JSON format with fields named \"observations\", \"reasoning\", and \"action\":\n",
    "{better_json_structure}\n",
    "\n",
    "You must carefully read over the current webpage's HTML, and based on the current state of the webpage, decide the single most logical next action to take to help advance in achieving the task.\n",
    "\n",
    "The webpage {currently_open_url} is open. Carefully analyze the HTML, and based on the HTML contents, determine the next action to take to help the user get closer to achieving their task. The HTML of the current webpage is:\n",
    "\n",
    "{fake_dominos_html}\n",
    "\"\"\"\n",
    "\n",
    "llm(prompt)"
   ]
  },
  {
   "cell_type": "markdown",
   "metadata": {},
   "source": [
    "# Give the agent memory!\n",
    "\n",
    "- The agent is just an LLM running in a while loop\n",
    "- It needs to have context about what actions it has already performed!"
   ]
  },
  {
   "cell_type": "code",
   "execution_count": 10,
   "metadata": {},
   "outputs": [],
   "source": [
    "fake_dominos_html_with_item_in_cart = \"\"\"<html>\n",
    "    <body>\n",
    "        <header>\n",
    "            <h1>Welcome to Domino's Pizza</h1>\n",
    "            <p>Order online for delivery or pickup</p>\n",
    "            <a href=\"#\" id=\"order-button\">Order Now</a>\n",
    "            <div id = \"cart\">1 item in cart</div>\n",
    "        </header>\n",
    "\n",
    "        <main>\n",
    "            <h2>Our Specialties</h2>\n",
    "            <p>Discover our delicious range of pizzas, sides, and desserts.</p>\n",
    "        </main>\n",
    "    </body>\n",
    "</html>\"\"\""
   ]
  },
  {
   "cell_type": "code",
   "execution_count": 11,
   "metadata": {},
   "outputs": [
    {
     "name": "stdout",
     "output_type": "stream",
     "text": [
      "\u001b[30mYou are a helpful assistant who can interact with a browser on behalf of the user. Your purpose is to help a user complete the following task:\n",
      "Order me a large pepperoni pizza from Domino's for delivery to 275 Brannan St, San Francisco, CA 94107\n",
      "\n",
      "You can perform the following actions to interact with the browser:\n",
      "click_html_element(id: 'str'): Click an HTML <a> tag or <button> identified by its ID\n",
      "\n",
      "fill_text_in_input(id: 'str', text: 'str'): Type text into an input or textarea identified by its ID. Important: This function can ONLY be called with an ID that belongs directly to an <input> or <textarea> tag.\n",
      "\n",
      "choose_dropdown_values(id: 'str', values: 'List[str]'): Select value(s) for a <select> tag identified by its ID. The `values` list must contain at least one string option to select. Important: This function can ONLY be called with an ID that belongs directly to a <select> tag.\n",
      "\n",
      "go_to_url(url: 'str'): Open a webpage by URL\n",
      "\n",
      "Important: You have already performed the following actions: You have already entered your delivery address and added a pizza to the cart. There is now a large pepperoni pizza in the user's cart. You are ready to checkout.\n",
      "\n",
      "Your response must be in JSON format with fields named \"observations\", \"reasoning\", and \"action\":\n",
      "{\n",
      "    \"observations\": \"Carefully read the HTML of the current webpage. Based on the HTML, explain the purpose of the webpage and identify the important HTML elements. Pay close attention to the state of informational elements such as the cart, input validation errors, sign in status, etc.\",\n",
      "    \"reasoning\": \"Think critically about what action you can perform on the HTML to help advance in the user task. Describe why you think this is the best action to perform given the contents of the current page.\",\n",
      "    \"action\": \"Call the action in the following format: action_name(param_name='argument')\"\n",
      "}\n",
      "\n",
      "You must carefully read over the current webpage's HTML, and based on the current state of the webpage, decide the single most logical next action to take to help advance in achieving the task.\n",
      "\n",
      "The webpage https://www.dominos.com/ is open. Carefully analyze the HTML, and based on the HTML contents, determine the next action to take to help the user get closer to achieving their task. The HTML of the current webpage is:\n",
      "\n",
      "<html>\n",
      "    <body>\n",
      "        <header>\n",
      "            <h1>Welcome to Domino's Pizza</h1>\n",
      "            <p>Order online for delivery or pickup</p>\n",
      "            <a href=\"#\" id=\"order-button\">Order Now</a>\n",
      "            <div id = \"cart\">1 item in cart</div>\n",
      "        </header>\n",
      "\n",
      "        <main>\n",
      "            <h2>Our Specialties</h2>\n",
      "            <p>Discover our delicious range of pizzas, sides, and desserts.</p>\n",
      "        </main>\n",
      "    </body>\n",
      "</html>\n",
      "\u001b[0m\n",
      "\u001b[32m{\n",
      "    \"observations\": \"The current webpage is the homepage of Domino's Pizza. The header contains a heading and a paragraph welcoming the user to the website and encouraging them to order online. There is also a button with the ID 'order-button' that the user can click to start the ordering process. In the header, there is also a 'cart' element that displays the number of items in the user's cart. The main section of the page contains a heading and a paragraph about the specialties offered by Domino's Pizza.\",\n",
      "    \"reasoning\": \"Since the user has already added a pizza to their cart, the next logical step is to proceed with the checkout process. Clicking the 'Order Now' button in the header should take the user to the checkout page, where they can enter their payment and delivery information.\",\n",
      "    \"action\": \"click_html_element(id='order-button')\"\n",
      "}\u001b[0m\n"
     ]
    }
   ],
   "source": [
    "previous_actions_taken = \"You have already entered your delivery address and added a pizza to the cart. There is now a large pepperoni pizza in the user's cart. You are ready to checkout.\"\n",
    "\n",
    "prompt = f\"\"\"\\\n",
    "You are a helpful assistant who can interact with a browser on behalf of the user. Your purpose is to help a user complete the following task:\n",
    "{task}\n",
    "\n",
    "You can perform the following actions to interact with the browser:\n",
    "{actions_agent_can_perform}\n",
    "\n",
    "Important: You have already performed the following actions: {previous_actions_taken}\n",
    "\n",
    "Your response must be in JSON format with fields named \"observations\", \"reasoning\", and \"action\":\n",
    "{better_json_structure}\n",
    "\n",
    "You must carefully read over the current webpage's HTML, and based on the current state of the webpage, decide the single most logical next action to take to help advance in achieving the task.\n",
    "\n",
    "The webpage {currently_open_url} is open. Carefully analyze the HTML, and based on the HTML contents, determine the next action to take to help the user get closer to achieving their task. The HTML of the current webpage is:\n",
    "\n",
    "{fake_dominos_html_with_item_in_cart}\n",
    "\"\"\"\n",
    "\n",
    "llm(prompt)"
   ]
  }
 ],
 "metadata": {
  "kernelspec": {
   "display_name": ".venv",
   "language": "python",
   "name": "python3"
  },
  "language_info": {
   "codemirror_mode": {
    "name": "ipython",
    "version": 3
   },
   "file_extension": ".py",
   "mimetype": "text/x-python",
   "name": "python",
   "nbconvert_exporter": "python",
   "pygments_lexer": "ipython3",
   "version": "3.10.13"
  }
 },
 "nbformat": 4,
 "nbformat_minor": 2
}
