{
 "cells": [
  {
   "cell_type": "code",
   "execution_count": 43,
   "metadata": {},
   "outputs": [],
   "source": [
    "from playwright.async_api import async_playwright\n",
    "from llm import GeminiUsage, call_llm, call_openai\n",
    "from termcolor import cprint\n",
    "\n",
    "# p = await async_playwright().start()\n",
    "# browser = await p.chromium.launch(headless=False)\n",
    "# page = await browser.new_page(no_viewport=True)\n",
    "# await page.goto(\"https://www.target.com/\")\n",
    "# await p.stop()\n",
    "\n",
    "def llm(prompt):\n",
    "    cprint(prompt, \"black\")\n",
    "    cprint(call_llm(prompt), \"green\")"
   ]
  },
  {
   "cell_type": "markdown",
   "metadata": {},
   "source": [
    "# Our Goal: Build an autonomous agent that can browse the web\n",
    "\n",
    "### Task: \"Order a large pepperoni pizza from Domino's for me\"\n"
   ]
  },
  {
   "cell_type": "code",
   "execution_count": 44,
   "metadata": {},
   "outputs": [
    {
     "name": "stdout",
     "output_type": "stream",
     "text": [
      "\u001b[30mYou are a helpful assistant who can interact with a browser on behalf of the user. Your purpose is to help a user complete the following task:\n",
      "Order me a large pepperoni pizza from Domino's for delivery to 275 Brannan St, San Francisco, CA 94107\n",
      "\n",
      "What is the most logical next action to take?\n",
      "\u001b[0m\n",
      "\u001b[32mOpen the Domino's website or app.\u001b[0m\n"
     ]
    }
   ],
   "source": [
    "task = \"Order me a large pepperoni pizza from Domino's for delivery to 275 Brannan St, San Francisco, CA 94107\"\n",
    "\n",
    "prompt = f\"\"\"\\\n",
    "You are a helpful assistant who can interact with a browser on behalf of the user. Your purpose is to help a user complete the following task:\n",
    "{task}\n",
    "\n",
    "What is the most logical next action to take?\n",
    "\"\"\"\n",
    "\n",
    "llm(prompt)"
   ]
  },
  {
   "cell_type": "markdown",
   "metadata": {},
   "source": [
    "# Step 1: Give the agent eyes!\n",
    "To order a pizza, the agent needs to know what the webpage looks like. So let's pass the HTML to the LLM so it can \"see\" the webpage.\n",
    "\n",
    "- This is RAG (retrieval augmented generation)!"
   ]
  },
  {
   "cell_type": "code",
   "execution_count": 51,
   "metadata": {},
   "outputs": [
    {
     "name": "stdout",
     "output_type": "stream",
     "text": [
      "\u001b[30mYou are a helpful assistant who can interact with a browser on behalf of the user. Your purpose is to help a user complete the following task:\n",
      "Order me a large pepperoni pizza from Domino's for delivery to 275 Brannan St, San Francisco, CA 94107\n",
      "\n",
      "You must carefully read over the current webpage's HTML, and based on the current state of the webpage, decide what is the most logical next action to take.\n",
      "\n",
      "The webpage https://www.dominos.com/ is open. Carefully analyze the HTML, and based on the HTML contents, determine the next action to take to help the user get closer to achieving their task. The HTML of the current webpage is:\n",
      "\n",
      "<html>\n",
      "    <body>\n",
      "        <header>\n",
      "            <h1>Welcome to Domino's Pizza</h1>\n",
      "            <p>Order online for delivery or pickup</p>\n",
      "            <a href=\"#\" id=\"order-button\">Order Now</a>\n",
      "        </header>\n",
      "\n",
      "        <main>\n",
      "            <h2>Our Specialties</h2>\n",
      "            <p>Discover our delicious range of pizzas, sides, and desserts.</p>\n",
      "        </main>\n",
      "    </body>\n",
      "</html>\n",
      "\u001b[0m\n",
      "\u001b[32mClick on the \"Order Now\" button to proceed with placing an order.\u001b[0m\n"
     ]
    }
   ],
   "source": [
    "currently_open_url = \"https://www.dominos.com/\"\n",
    "fake_dominos_html = \"\"\"<html>\n",
    "    <body>\n",
    "        <header>\n",
    "            <h1>Welcome to Domino's Pizza</h1>\n",
    "            <p>Order online for delivery or pickup</p>\n",
    "            <a href=\"#\" id=\"order-button\">Order Now</a>\n",
    "        </header>\n",
    "\n",
    "        <main>\n",
    "            <h2>Our Specialties</h2>\n",
    "            <p>Discover our delicious range of pizzas, sides, and desserts.</p>\n",
    "        </main>\n",
    "    </body>\n",
    "</html>\"\"\"\n",
    "\n",
    "prompt = f\"\"\"\\\n",
    "You are a helpful assistant who can interact with a browser on behalf of the user. Your purpose is to help a user complete the following task:\n",
    "{task}\n",
    "\n",
    "You must carefully read over the current webpage's HTML, and based on the current state of the webpage, decide what is the most logical next action to take.\n",
    "\n",
    "The webpage {currently_open_url} is open. Carefully analyze the HTML, and based on the HTML contents, determine the next action to take to help the user get closer to achieving their task. The HTML of the current webpage is:\n",
    "\n",
    "{fake_dominos_html}\n",
    "\"\"\"\n",
    "\n",
    "llm(prompt)"
   ]
  },
  {
   "cell_type": "markdown",
   "metadata": {},
   "source": [
    "# Step 2: Tell the agent what actions it can perform\n",
    "The agent should be able to click on buttons, go to a url, and fill out form fields"
   ]
  },
  {
   "cell_type": "code",
   "execution_count": 48,
   "metadata": {},
   "outputs": [
    {
     "name": "stdout",
     "output_type": "stream",
     "text": [
      "\u001b[30mYou are a helpful assistant who can interact with a browser on behalf of the user. Your purpose is to help a user complete the following task:\n",
      "Order me a large pepperoni pizza from Domino's for delivery to 275 Brannan St, San Francisco, CA 94107\n",
      "\n",
      "You can perform the following actions to interact with the browser:\n",
      "click_html_element(id: 'str'): Click an HTML <a> tag or <button> identified by its ID\n",
      "fill_text_in_input(id: 'str', text: 'str'): Type text into an input or textarea identified by its ID. Important: This function can ONLY be called with an ID that belongs directly to an <input> or <textarea> tag.\n",
      "choose_dropdown_values(id: 'str', values: 'List[str]'): Select value(s) for a <select> tag identified by its ID. The `values` list must contain at least one string option to select. Important: This function can ONLY be called with an ID that belongs directly to a <select> tag.\n",
      "go_to_url(url: 'str'): Open a webpage by URL\n",
      "\n",
      "You must carefully read over the current webpage's HTML, and based on the current state of the webpage, decide the single most logical next action to take to help advance in achieving the task.\n",
      "\n",
      "The webpage https://www.dominos.com/ is open. Carefully analyze the HTML, and based on the HTML contents, determine the next action to take to help the user get closer to achieving their task. The HTML of the current webpage is:\n",
      "\n",
      "<html>\n",
      "    <body>\n",
      "        <header>\n",
      "            <h1>Welcome to Domino's Pizza</h1>\n",
      "            <p>Order online for delivery or pickup</p>\n",
      "            <a href=\"#\" class=\"order-button\">Order Now</a>\n",
      "        </header>\n",
      "\n",
      "        <main>\n",
      "            <h2>Our Specialties</h2>\n",
      "            <p>Discover our delicious range of pizzas, sides, and desserts.</p>\n",
      "        </main>\n",
      "    </body>\n",
      "</html>\n",
      "\u001b[0m\n",
      "\u001b[32mclick_html_element(id: 'order-button')\u001b[0m\n"
     ]
    }
   ],
   "source": [
    "actions_agent_can_perform = \"\"\"\\\n",
    "click_html_element(id: 'str'): Click an HTML <a> tag or <button> identified by its ID\n",
    "fill_text_in_input(id: 'str', text: 'str'): Type text into an input or textarea identified by its ID. Important: This function can ONLY be called with an ID that belongs directly to an <input> or <textarea> tag.\n",
    "choose_dropdown_values(id: 'str', values: 'List[str]'): Select value(s) for a <select> tag identified by its ID. The `values` list must contain at least one string option to select. Important: This function can ONLY be called with an ID that belongs directly to a <select> tag.\n",
    "go_to_url(url: 'str'): Open a webpage by URL\"\"\"\n",
    "\n",
    "prompt = f\"\"\"\\\n",
    "You are a helpful assistant who can interact with a browser on behalf of the user. Your purpose is to help a user complete the following task:\n",
    "{task}\n",
    "\n",
    "You can perform the following actions to interact with the browser:\n",
    "{actions_agent_can_perform}\n",
    "\n",
    "You must carefully read over the current webpage's HTML, and based on the current state of the webpage, decide the single most logical next action to take to help advance in achieving the task.\n",
    "\n",
    "The webpage {currently_open_url} is open. Carefully analyze the HTML, and based on the HTML contents, determine the next action to take to help the user get closer to achieving their task. The HTML of the current webpage is:\n",
    "\n",
    "{fake_dominos_html}\n",
    "\"\"\"\n",
    "\n",
    "llm(prompt)"
   ]
  },
  {
   "cell_type": "markdown",
   "metadata": {},
   "source": [
    "# Step 3: Tell the agent to return a JSON\n",
    "We want the agent to output the response in a structured format so we can parse the action and execute it outside of the LLM!\n",
    "\n",
    "- Alternatively you can use the ChatGPT function calling API / structured output API"
   ]
  },
  {
   "cell_type": "code",
   "execution_count": 52,
   "metadata": {},
   "outputs": [
    {
     "name": "stdout",
     "output_type": "stream",
     "text": [
      "\u001b[30mYou are a helpful assistant who can interact with a browser on behalf of the user. Your purpose is to help a user complete the following task:\n",
      "Order me a large pepperoni pizza from Domino's for delivery to 275 Brannan St, San Francisco, CA 94107\n",
      "\n",
      "You can perform the following actions to interact with the browser:\n",
      "click_html_element(id: 'str'): Click an HTML <a> tag or <button> identified by its ID\n",
      "fill_text_in_input(id: 'str', text: 'str'): Type text into an input or textarea identified by its ID. Important: This function can ONLY be called with an ID that belongs directly to an <input> or <textarea> tag.\n",
      "choose_dropdown_values(id: 'str', values: 'List[str]'): Select value(s) for a <select> tag identified by its ID. The `values` list must contain at least one string option to select. Important: This function can ONLY be called with an ID that belongs directly to a <select> tag.\n",
      "go_to_url(url: 'str'): Open a webpage by URL\n",
      "\n",
      "Your response must be in JSON format with a field named \"action\":\n",
      "{\n",
      "    \"action\": \"Call the action in the following format: action_name(param_name='argument')\"\n",
      "}\n",
      "\n",
      "You must carefully read over the current webpage's HTML, and based on the current state of the webpage, decide the single most logical next action to take to help advance in achieving the task.\n",
      "\n",
      "The webpage https://www.dominos.com/ is open. Carefully analyze the HTML, and based on the HTML contents, determine the next action to take to help the user get closer to achieving their task. The HTML of the current webpage is:\n",
      "\n",
      "<html>\n",
      "    <body>\n",
      "        <header>\n",
      "            <h1>Welcome to Domino's Pizza</h1>\n",
      "            <p>Order online for delivery or pickup</p>\n",
      "            <a href=\"#\" id=\"order-button\">Order Now</a>\n",
      "        </header>\n",
      "\n",
      "        <main>\n",
      "            <h2>Our Specialties</h2>\n",
      "            <p>Discover our delicious range of pizzas, sides, and desserts.</p>\n",
      "        </main>\n",
      "    </body>\n",
      "</html>\n",
      "\u001b[0m\n",
      "\u001b[32m{\n",
      "    \"action\": \"click_html_element(id='order-button')\"\n",
      "}\u001b[0m\n"
     ]
    }
   ],
   "source": [
    "json_structure = \"\"\"\\\n",
    "{\n",
    "    \"action\": \"Call the action in the following format: action_name(param_name='argument')\"\n",
    "}\n",
    "\"\"\"\n",
    "\n",
    "prompt = f\"\"\"\\\n",
    "You are a helpful assistant who can interact with a browser on behalf of the user. Your purpose is to help a user complete the following task:\n",
    "{task}\n",
    "\n",
    "You can perform the following actions to interact with the browser:\n",
    "{actions_agent_can_perform}\n",
    "\n",
    "Your response must be in JSON format with a field named \"action\":\n",
    "{{\n",
    "    \"action\": \"Call the action in the following format: action_name(param_name='argument')\"\n",
    "}}\n",
    "\n",
    "You must carefully read over the current webpage's HTML, and based on the current state of the webpage, decide the single most logical next action to take to help advance in achieving the task.\n",
    "\n",
    "The webpage {currently_open_url} is open. Carefully analyze the HTML, and based on the HTML contents, determine the next action to take to help the user get closer to achieving their task. The HTML of the current webpage is:\n",
    "\n",
    "{fake_dominos_html}\n",
    "\"\"\"\n",
    "\n",
    "llm(prompt)"
   ]
  },
  {
   "cell_type": "markdown",
   "metadata": {},
   "source": [
    "# Step 4: Make the agent think before taking an action\n",
    "\n",
    "LLMs are prone to hallucination. If you ask the agent to explicitly describe what it observes in the HTML and to **reason** out loud, it is much more likely to arrive at a logical decision. Without this observation/reasoning step, the agent might hallucinate and:\n",
    "\n",
    "- Make up HTML IDs that don't exist\n",
    "- Choose an incorrect action that doesn't advance the task"
   ]
  },
  {
   "cell_type": "code",
   "execution_count": 57,
   "metadata": {},
   "outputs": [
    {
     "name": "stdout",
     "output_type": "stream",
     "text": [
      "\u001b[30mYou are a helpful assistant who can interact with a browser on behalf of the user. Your purpose is to help a user complete the following task:\n",
      "Order me a large pepperoni pizza from Domino's for delivery to 275 Brannan St, San Francisco, CA 94107\n",
      "\n",
      "You can perform the following actions to interact with the browser:\n",
      "click_html_element(id: 'str'): Click an HTML <a> tag or <button> identified by its ID\n",
      "fill_text_in_input(id: 'str', text: 'str'): Type text into an input or textarea identified by its ID. Important: This function can ONLY be called with an ID that belongs directly to an <input> or <textarea> tag.\n",
      "choose_dropdown_values(id: 'str', values: 'List[str]'): Select value(s) for a <select> tag identified by its ID. The `values` list must contain at least one string option to select. Important: This function can ONLY be called with an ID that belongs directly to a <select> tag.\n",
      "go_to_url(url: 'str'): Open a webpage by URL\n",
      "\n",
      "Your response must be in JSON format with fields named \"observations\", \"reasoning\", and \"action\":\n",
      "{\n",
      "    \"observations\": \"Carefully read the HTML of the current webpage. Based on the HTML, explain the purpose of the webpage and identify the important HTML elements. Pay close attention to the state of informational elements such as the cart, input validation errors, sign in status, etc.\",\n",
      "    \"reasoning\": \"Think critically about what action you can perform on the HTML to help advance in the user task. Describe why you think this is the best action to perform given the contents of the current page.\",\n",
      "    \"action\": \"Call the action in the following format: action_name(param_name='argument')\"\n",
      "}\n",
      "\n",
      "You must carefully read over the current webpage's HTML, and based on the current state of the webpage, decide the single most logical next action to take to help advance in achieving the task.\n",
      "\n",
      "The webpage https://www.dominos.com/ is open. Carefully analyze the HTML, and based on the HTML contents, determine the next action to take to help the user get closer to achieving their task. The HTML of the current webpage is:\n",
      "\n",
      "<html>\n",
      "    <body>\n",
      "        <header>\n",
      "            <h1>Welcome to Domino's Pizza</h1>\n",
      "            <p>Order online for delivery or pickup</p>\n",
      "            <a href=\"#\" id=\"order-button\">Order Now</a>\n",
      "        </header>\n",
      "\n",
      "        <main>\n",
      "            <h2>Our Specialties</h2>\n",
      "            <p>Discover our delicious range of pizzas, sides, and desserts.</p>\n",
      "        </main>\n",
      "    </body>\n",
      "</html>\n",
      "\u001b[0m\n",
      "\u001b[32m{\n",
      "    \"observations\": \"The webpage is the homepage of Domino's Pizza. The page contains a header with a title, a short description, and an \\\"Order Now\\\" button. The main content of the page is a section titled \\\"Our Specialties\\\" with a short description.\",\n",
      "    \"reasoning\": \"The user wants to order a large pepperoni pizza from Domino's for delivery to 275 Brannan St, San Francisco, CA 94107. The current webpage is the homepage of Domino's Pizza. To order a pizza, the user needs to click the \\\"Order Now\\\" button.\",\n",
      "    \"action\": \"click_html_element(id='order-button')\"\n",
      "}\u001b[0m\n"
     ]
    }
   ],
   "source": [
    "better_json_structure = \"\"\"\\\n",
    "{\n",
    "    \"action\": \"Call the action in the following format: action_name(param_name='argument')\"\n",
    "}\n",
    "\"\"\"\n",
    "\n",
    "prompt = f\"\"\"\\\n",
    "You are a helpful assistant who can interact with a browser on behalf of the user. Your purpose is to help a user complete the following task:\n",
    "{task}\n",
    "\n",
    "You can perform the following actions to interact with the browser:\n",
    "{actions_agent_can_perform}\n",
    "\n",
    "Your response must be in JSON format with fields named \"observations\", \"reasoning\", and \"action\":\n",
    "{{\n",
    "    \"observations\": \"Carefully read the HTML of the current webpage. Based on the HTML, explain the purpose of the webpage and identify the important HTML elements. Pay close attention to the state of informational elements such as the cart, input validation errors, sign in status, etc.\",\n",
    "    \"reasoning\": \"Think critically about what action you can perform on the HTML to help advance in the user task. Describe why you think this is the best action to perform given the contents of the current page.\",\n",
    "    \"action\": \"Call the action in the following format: action_name(param_name='argument')\"\n",
    "}}\n",
    "\n",
    "You must carefully read over the current webpage's HTML, and based on the current state of the webpage, decide the single most logical next action to take to help advance in achieving the task.\n",
    "\n",
    "The webpage {currently_open_url} is open. Carefully analyze the HTML, and based on the HTML contents, determine the next action to take to help the user get closer to achieving their task. The HTML of the current webpage is:\n",
    "\n",
    "{fake_dominos_html}\n",
    "\"\"\"\n",
    "\n",
    "llm(prompt)"
   ]
  }
 ],
 "metadata": {
  "kernelspec": {
   "display_name": ".venv",
   "language": "python",
   "name": "python3"
  },
  "language_info": {
   "codemirror_mode": {
    "name": "ipython",
    "version": 3
   },
   "file_extension": ".py",
   "mimetype": "text/x-python",
   "name": "python",
   "nbconvert_exporter": "python",
   "pygments_lexer": "ipython3",
   "version": "3.10.13"
  }
 },
 "nbformat": 4,
 "nbformat_minor": 2
}
